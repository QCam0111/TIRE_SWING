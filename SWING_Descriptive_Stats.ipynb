{
  "nbformat": 4,
  "nbformat_minor": 0,
  "metadata": {
    "colab": {
      "provenance": []
    },
    "kernelspec": {
      "name": "python3",
      "display_name": "Python 3"
    },
    "language_info": {
      "name": "python"
    }
  },
  "cells": [
    {
      "cell_type": "markdown",
      "source": [
        "# One Way Anova Test"
      ],
      "metadata": {
        "id": "Dm7z0i3MyZsv"
      }
    },
    {
      "cell_type": "code",
      "execution_count": null,
      "metadata": {
        "id": "Q4RPt3917D0I",
        "outputId": "791e3062-bd67-490d-e301-0b05ee53468d",
        "colab": {
          "base_uri": "https://localhost:8080/"
        }
      },
      "outputs": [
        {
          "output_type": "stream",
          "name": "stdout",
          "text": [
            "F_onewayResult(statistic=4.3752424553450195, pvalue=0.02671612532446915)\n"
          ]
        }
      ],
      "source": [
        "import numpy as np\n",
        "import pandas as pd\n",
        "from scipy.stats import f_oneway\n",
        "\n",
        "# Create a DataFrame with the data from the table\n",
        "data = {\n",
        "    'Wavelength': [1550, 1064, 980, 810],\n",
        "    'Cochlear': [1.11E-04, 3.07E-02, 1.57E-02, 8.05E-03],\n",
        "    'Intranasal': [2.78E-11, 9.76E-05, 1.09E-05, 7.14E-06],\n",
        "    '45 Degree': [5.21E-16, 5.26E-07, 3.92E-08, 1.74E-08],\n",
        "    'CZ': [4.52E-20, 3.22E-09, 1.46E-10, 2.56E-11]\n",
        "}\n",
        "\n",
        "df = pd.DataFrame(data)\n",
        "\n",
        "# Perform ANOVA test\n",
        "result = f_oneway(\n",
        "    df['Cochlear'],\n",
        "    df['Intranasal'],\n",
        "    df['45 Degree'],\n",
        "    df['CZ']\n",
        ")\n",
        "\n",
        "print(result)\n"
      ]
    },
    {
      "cell_type": "markdown",
      "source": [
        "# Two Way Anova"
      ],
      "metadata": {
        "id": "Wt-uX0cLyi_f"
      }
    },
    {
      "cell_type": "code",
      "source": [
        "import numpy as np\n",
        "import pandas as pd\n",
        "import statsmodels.api as sm\n",
        "from statsmodels.formula.api import ols\n",
        "\n",
        "data = {\n",
        "    'Wavelength': np.tile([1550, 1550, 1550, 1064, 1064, 1064, 980, 980, 980, 810, 810, 810], 4),\n",
        "    # 'Cochlear': [1.11e-4, 3.07e-2, 1.57e-2, 8.05e-3],\n",
        "    # 'Intranasal': [2.78e-11, 9.76e-5, 1.09e-5, 7.14e-6],\n",
        "    # 'Degree': [5.21e-16, 5.26e-7, 3.92e-8, 1.74e-8],\n",
        "    # 'CZ': [4.52e-20, 3.22e-9, 1.46e-10, 2.56e-11]\n",
        "    'Position': ['cochlear', 'cochlear', 'cochlear', 'cochlear', 'cochlear', 'cochlear', 'cochlear', 'cochlear', 'cochlear', 'cochlear', 'cochlear', 'cochlear', 'intranasal', 'intranasal', 'intranasal', 'intranasal', 'intranasal', 'intranasal', 'intranasal', 'intranasal', 'intranasal', 'intranasal', 'intranasal', 'intranasal', 'degree', 'degree', 'degree', 'degree', 'degree', 'degree', 'degree', 'degree', 'degree', 'degree', 'degree', 'degree', 'cz', 'cz', 'cz', 'cz', 'cz', 'cz', 'cz', 'cz', 'cz', 'cz', 'cz', 'cz'],\n",
        "    'AvgEnergy': [1.11e-4, 1.02e-4, 1.2e-4, 3.07e-2, 3.07e-2, 4.0e-2, 1.54e-2, 1.57e-2, 1.60e-2, 8.01e-3, 8.03e-3, 8.05e-3, 2.5e-11, 2.4e-11, 2.78e-11, 9.64e-5, 9.7e-5, 9.76e-5, 1.16e-5, 1.05e-5, 1.09e-5, 7.23e-6, 7.1e-6, 7.14e-6, 5e-16, 5.1e-16, 5.21e-16, 5.24e-7, 5.2e-7, 5.26e-7, 3.9e-8, 3.8e-8, 3.92e-8, 1.7e-8, 1.73e-8, 1.74e-8, 4.5e-20, 4.54e-20, 4.52e-20, 3.2e-9, 3.24e-9, 3.22e-9, 1.44e-10, 1.48e-10, 1.46e-10, 2.54e-11, 2.58e-11, 2.56e-11]\n",
        "}\n",
        "df = pd.DataFrame(data)\n",
        "print(df)\n",
        "\n",
        "model = ols('AvgEnergy ~ C(Wavelength) + C(Position) + C(Wavelength):C(Position)', data=df).fit()\n",
        "anova_result = sm.stats.anova_lm(model, typ=2)\n",
        "print(anova_result)\n"
      ],
      "metadata": {
        "colab": {
          "base_uri": "https://localhost:8080/"
        },
        "id": "RwcBkclq7ZWp",
        "outputId": "9f03a5ab-7c77-4149-c638-013d30fdf92c"
      },
      "execution_count": 20,
      "outputs": [
        {
          "output_type": "stream",
          "name": "stdout",
          "text": [
            "    Wavelength    Position     AvgEnergy\n",
            "0         1550    cochlear  1.110000e-04\n",
            "1         1550    cochlear  1.020000e-04\n",
            "2         1550    cochlear  1.200000e-04\n",
            "3         1064    cochlear  3.070000e-02\n",
            "4         1064    cochlear  3.070000e-02\n",
            "5         1064    cochlear  4.000000e-02\n",
            "6          980    cochlear  1.540000e-02\n",
            "7          980    cochlear  1.570000e-02\n",
            "8          980    cochlear  1.600000e-02\n",
            "9          810    cochlear  8.010000e-03\n",
            "10         810    cochlear  8.030000e-03\n",
            "11         810    cochlear  8.050000e-03\n",
            "12        1550  intranasal  2.500000e-11\n",
            "13        1550  intranasal  2.400000e-11\n",
            "14        1550  intranasal  2.780000e-11\n",
            "15        1064  intranasal  9.640000e-05\n",
            "16        1064  intranasal  9.700000e-05\n",
            "17        1064  intranasal  9.760000e-05\n",
            "18         980  intranasal  1.160000e-05\n",
            "19         980  intranasal  1.050000e-05\n",
            "20         980  intranasal  1.090000e-05\n",
            "21         810  intranasal  7.230000e-06\n",
            "22         810  intranasal  7.100000e-06\n",
            "23         810  intranasal  7.140000e-06\n",
            "24        1550      degree  5.000000e-16\n",
            "25        1550      degree  5.100000e-16\n",
            "26        1550      degree  5.210000e-16\n",
            "27        1064      degree  5.240000e-07\n",
            "28        1064      degree  5.200000e-07\n",
            "29        1064      degree  5.260000e-07\n",
            "30         980      degree  3.900000e-08\n",
            "31         980      degree  3.800000e-08\n",
            "32         980      degree  3.920000e-08\n",
            "33         810      degree  1.700000e-08\n",
            "34         810      degree  1.730000e-08\n",
            "35         810      degree  1.740000e-08\n",
            "36        1550          cz  4.500000e-20\n",
            "37        1550          cz  4.540000e-20\n",
            "38        1550          cz  4.520000e-20\n",
            "39        1064          cz  3.200000e-09\n",
            "40        1064          cz  3.240000e-09\n",
            "41        1064          cz  3.220000e-09\n",
            "42         980          cz  1.440000e-10\n",
            "43         980          cz  1.480000e-10\n",
            "44         980          cz  1.460000e-10\n",
            "45         810          cz  2.540000e-11\n",
            "46         810          cz  2.580000e-11\n",
            "47         810          cz  2.560000e-11\n",
            "                             sum_sq    df           F        PR(>F)\n",
            "C(Wavelength)              0.000470   3.0   86.655168  1.896435e-15\n",
            "C(Position)                0.001866   3.0  344.190382  2.022364e-24\n",
            "C(Wavelength):C(Position)  0.001399   9.0   85.969327  7.449956e-20\n",
            "Residual                   0.000058  32.0         NaN           NaN\n"
          ]
        }
      ]
    },
    {
      "cell_type": "code",
      "source": [
        "import numpy as np\n",
        "import pandas as pd\n",
        "import statsmodels.api as sm\n",
        "from statsmodels.formula.api import ols\n",
        "\n",
        "N=int(4)\n",
        "def newRound(value, N):\n",
        "    exponent = np.ceil(np.log10(value))\n",
        "    return 10**exponent*np.round(value*10**(-exponent), N)\n",
        "print(np.repeat(['none', 'nylon','twine'], 9))\n",
        "df = pd.DataFrame({'rifling': np.repeat(['none', 'nylon','twine'], 9),\n",
        "                   'projectile': ['dart', 'dart', 'dart', 'tau', 'tau', 'tau', 'phi', 'phi', 'phi','dart', 'dart', 'dart', 'tau', 'tau', 'tau', 'phi', 'phi', 'phi','dart', 'dart', 'dart', 'tau', 'tau', 'tau', 'phi', 'phi', 'phi',],\n",
        "                   'velocity': [43.5, 39.7, 41.1, 33.6, 29.8, 32.3, 21.1, 27.2, 28.4, 19.8, 23.6, 20.4, 5.5, 6.1, 7.7, 6.3, 7.2, 7.3, 20.8, 22.2, 24.6, 8.6, 7.7, 7.5, 5.2, 8.1, 7.6]})\n",
        "print(df)\n",
        "\n",
        "model = ols('velocity ~ C(rifling) + C(projectile) + C(rifling):C(projectile)', data=df).fit()\n",
        "aa=sm.stats.anova_lm(model, typ=2)\n",
        "print(aa)\n"
      ],
      "metadata": {
        "colab": {
          "base_uri": "https://localhost:8080/"
        },
        "id": "GWXuO0xXW1Wa",
        "outputId": "9130e36e-d0d1-4516-edad-7644b486ffd8"
      },
      "execution_count": null,
      "outputs": [
        {
          "output_type": "stream",
          "name": "stdout",
          "text": [
            "['none' 'none' 'none' 'none' 'none' 'none' 'none' 'none' 'none' 'nylon'\n",
            " 'nylon' 'nylon' 'nylon' 'nylon' 'nylon' 'nylon' 'nylon' 'nylon' 'twine'\n",
            " 'twine' 'twine' 'twine' 'twine' 'twine' 'twine' 'twine' 'twine']\n",
            "   rifling projectile  velocity\n",
            "0     none       dart      43.5\n",
            "1     none       dart      39.7\n",
            "2     none       dart      41.1\n",
            "3     none        tau      33.6\n",
            "4     none        tau      29.8\n",
            "5     none        tau      32.3\n",
            "6     none        phi      21.1\n",
            "7     none        phi      27.2\n",
            "8     none        phi      28.4\n",
            "9    nylon       dart      19.8\n",
            "10   nylon       dart      23.6\n",
            "11   nylon       dart      20.4\n",
            "12   nylon        tau       5.5\n",
            "13   nylon        tau       6.1\n",
            "14   nylon        tau       7.7\n",
            "15   nylon        phi       6.3\n",
            "16   nylon        phi       7.2\n",
            "17   nylon        phi       7.3\n",
            "18   twine       dart      20.8\n",
            "19   twine       dart      22.2\n",
            "20   twine       dart      24.6\n",
            "21   twine        tau       8.6\n",
            "22   twine        tau       7.7\n",
            "23   twine        tau       7.5\n",
            "24   twine        phi       5.2\n",
            "25   twine        phi       8.1\n",
            "26   twine        phi       7.6\n",
            "                               sum_sq    df           F        PR(>F)\n",
            "C(rifling)                2638.731852   2.0  339.686088  5.084766e-15\n",
            "C(projectile)             1219.742963   2.0  157.018499  4.043656e-12\n",
            "C(rifling):C(projectile)    45.141481   4.0    2.905550  5.118035e-02\n",
            "Residual                    69.913333  18.0         NaN           NaN\n"
          ]
        }
      ]
    },
    {
      "cell_type": "markdown",
      "source": [
        "#Power Comparision"
      ],
      "metadata": {
        "id": "gPk6KEXeejuV"
      }
    },
    {
      "cell_type": "markdown",
      "source": [
        "Under the following assumptions:\n",
        "\n",
        "\n",
        "\n",
        "*   The striatum is approximately 6-8 cm inside the human head (half the diameter of the human head)\n",
        "*   All measurements are assumed to be in the same axis of the striatum (cochlear)\n",
        "\n",
        "For DBS, the distribution is given as current density (A/cm^2) based on the distance along the electrode (mm).\n",
        "\n",
        "For TMS, the distribution is given as Volts per meter (V/m) based on the depth (cm).\n",
        "\n",
        "For SWING's noninvasive solution, the results are given as Fluence (J/cm^2) based on the depth (cm), and the simulation is run for 500ms.\n",
        "\n",
        "Steps:\n",
        "\n",
        "\n",
        "1.   Given the DBS measurements, convert to W/cm^2\n",
        "2.   Convert SWING's method to W/cm^2\n",
        "3.   Convert TMS to W/cm^2\n",
        "4.   Plot each of the results on the same set of axes\n",
        "5.   List the max in a table and the distance for all three\n",
        "\n",
        "\n"
      ],
      "metadata": {
        "id": "a6wd1leng-je"
      }
    },
    {
      "cell_type": "code",
      "source": [
        "import numpy as np\n",
        "import matplotlib.pyplot as plt\n",
        "from scipy import interpolate\n",
        "import pandas as pd\n",
        "\n",
        "# Given data points for TMS (x_tms and y_tms) and SWING (x_swing and y_swing)\n",
        "x_tms = np.array([0.5, 1, 1.5, 2, 3, 4, 5, 6])\n",
        "y_tms = np.array([6.7904509, 5.1989390, 3.8196286, 2.6525199, 0.9549072, 0.4244032, 0.2387268, 0.1061008])\n",
        "\n",
        "x_swing = np.array([1.5, 2, 3, 4, 5])\n",
        "y_swing = np.array([3.101774, 2.99365, 2.454218, 2.118938, 2.011006])\n",
        "\n",
        "\n",
        "# Find the max value and its corresponding x coordinate for SWING data\n",
        "max_value_swing = np.max(y_swing)\n",
        "max_x_swing = x_swing[np.argmax(y_swing)]\n",
        "\n",
        "max_value_tms = np.max(y_tms)\n",
        "max_x_tms = x_tms[np.argmax(y_tms)]\n",
        "\n",
        "# Create a DataFrame for the max values and their coordinates\n",
        "max_values_df = pd.DataFrame({\n",
        "    'Method': ['TMS', 'SWING'],\n",
        "    'Max Distance (cm)': [max_x_tms, max_x_swing],\n",
        "    'Max Power (mW/cm^2)': [max_value_tms, max_value_swing]\n",
        "})\n",
        "\n",
        "# Plot the original data and extrapolation for TMS data\n",
        "plt.plot(x_tms, y_tms, 'o', label='TMS Original Data', color='blue')\n",
        "plt.plot(max_x_tms, max_value_tms, 's', markersize=8, label='TMS Max Value', color='red')\n",
        "\n",
        "# Plot the original data and extrapolation for SWING data\n",
        "plt.plot(x_swing, y_swing, 'x', label='SWING Original Data', color='green')\n",
        "plt.plot(max_x_swing, max_value_swing, 's', markersize=8, label='SWING Max Value', color='brown')\n",
        "\n",
        "# Set plot properties\n",
        "plt.xlabel('Distance (cm)')\n",
        "plt.ylabel('PFD (W/cm^2)')\n",
        "plt.title('Comparison of TMS vs SWING')\n",
        "plt.legend()\n",
        "\n",
        "# Display the table of max values\n",
        "print(\"Table of Max Values:\")\n",
        "print(max_values_df)\n",
        "\n",
        "# Show the plot\n",
        "plt.grid()\n",
        "plt.show()\n"
      ],
      "metadata": {
        "colab": {
          "base_uri": "https://localhost:8080/",
          "height": 543
        },
        "id": "tEJgn6an1kYz",
        "outputId": "f3b08702-2f25-4e43-bd46-8eda76353499"
      },
      "execution_count": 9,
      "outputs": [
        {
          "output_type": "stream",
          "name": "stdout",
          "text": [
            "Table of Max Values:\n",
            "  Method  Max Distance (cm)  Max Power (mW/cm^2)\n",
            "0    TMS                0.5             6.790451\n",
            "1  SWING                1.5             3.101774\n"
          ]
        },
        {
          "output_type": "display_data",
          "data": {
            "text/plain": [
              "<Figure size 640x480 with 1 Axes>"
            ],
            "image/png": "[encoded data removed]"
          },
          "metadata": {}
        }
      ]
    }
  ]
}
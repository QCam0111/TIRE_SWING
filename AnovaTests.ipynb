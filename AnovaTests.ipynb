{
  "nbformat": 4,
  "nbformat_minor": 0,
  "metadata": {
    "colab": {
      "provenance": []
    },
    "kernelspec": {
      "name": "python3",
      "display_name": "Python 3"
    },
    "language_info": {
      "name": "python"
    }
  },
  "cells": [
    {
      "cell_type": "markdown",
      "source": [
        "# One Way Anova Test"
      ],
      "metadata": {
        "id": "Dm7z0i3MyZsv"
      }
    },
    {
      "cell_type": "code",
      "execution_count": null,
      "metadata": {
        "id": "Q4RPt3917D0I",
        "outputId": "791e3062-bd67-490d-e301-0b05ee53468d",
        "colab": {
          "base_uri": "https://localhost:8080/"
        }
      },
      "outputs": [
        {
          "output_type": "stream",
          "name": "stdout",
          "text": [
            "F_onewayResult(statistic=4.3752424553450195, pvalue=0.02671612532446915)\n"
          ]
        }
      ],
      "source": [
        "import numpy as np\n",
        "import pandas as pd\n",
        "from scipy.stats import f_oneway\n",
        "\n",
        "# Create a DataFrame with the data from the table\n",
        "data = {\n",
        "    'Wavelength': [1550, 1064, 980, 810],\n",
        "    'Cochlear': [1.11E-04, 3.07E-02, 1.57E-02, 8.05E-03],\n",
        "    'Intranasal': [2.78E-11, 9.76E-05, 1.09E-05, 7.14E-06],\n",
        "    '45 Degree': [5.21E-16, 5.26E-07, 3.92E-08, 1.74E-08],\n",
        "    'CZ': [4.52E-20, 3.22E-09, 1.46E-10, 2.56E-11]\n",
        "}\n",
        "\n",
        "df = pd.DataFrame(data)\n",
        "\n",
        "# Perform ANOVA test\n",
        "result = f_oneway(\n",
        "    df['Cochlear'],\n",
        "    df['Intranasal'],\n",
        "    df['45 Degree'],\n",
        "    df['CZ']\n",
        ")\n",
        "\n",
        "print(result)\n"
      ]
    },
    {
      "cell_type": "markdown",
      "source": [
        "# Two Way Anova"
      ],
      "metadata": {
        "id": "Wt-uX0cLyi_f"
      }
    },
    {
      "cell_type": "code",
      "source": [
        "import numpy as np\n",
        "import pandas as pd\n",
        "import statsmodels.api as sm\n",
        "from statsmodels.formula.api import ols\n",
        "\n",
        "# Create the DataFrame with the given data\n",
        "data = {\n",
        "    'Wavelength': np.repeat([1550, 1064, 980, 810], 4),\n",
        "    # 'Cochlear': [1.11e-4, 3.07e-2, 1.57e-2, 8.05e-3],\n",
        "    # 'Intranasal': [2.78e-11, 9.76e-5, 1.09e-5, 7.14e-6],\n",
        "    # 'Degree': [5.21e-16, 5.26e-7, 3.92e-8, 1.74e-8],\n",
        "    # 'CZ': [4.52e-20, 3.22e-9, 1.46e-10, 2.56e-11]\n",
        "    'Position': ['cochlear','cochlear', 'cochlear', 'cochlear', 'intranasal', 'intranasal', 'intranasal', 'intranasal', 'degree', 'degree', 'degree', 'degree', 'cz', 'cz', 'cz', 'cz'],\n",
        "    'AvgEnergy': [1.11e-4, 3.07e-2, 1.57e-2, 8.05e-3, 2.78e-11, 9.76e-5, 1.09e-5, 7.14e-6, 5.21e-16, 5.26e-7, 3.92e-8, 1.74e-8, 4.52e-20, 3.22e-9, 1.46e-10, 2.56e-11]\n",
        "}\n",
        "\n",
        "df = pd.DataFrame(data)\n",
        "\n",
        "# Perform the ANOVA test\n",
        "model = ols('AvgEnergy ~ C(Wavelength) + C(Position) + C(Wavelength):C(Position)', data=df).fit()\n",
        "anova_result = sm.stats.anova_lm(model, typ=2)\n",
        "print(anova_result)\n"
      ],
      "metadata": {
        "colab": {
          "base_uri": "https://localhost:8080/"
        },
        "id": "CL3Y8pq1Tm-1",
        "outputId": "eb827dda-c87a-4887-ca50-ed3c26411c91"
      },
      "execution_count": 7,
      "outputs": [
        {
          "output_type": "stream",
          "name": "stdout",
          "text": [
            "                             sum_sq    df         F    PR(>F)\n",
            "C(Wavelength)                   NaN   3.0       NaN       NaN\n",
            "C(Position)                     NaN   3.0       NaN       NaN\n",
            "C(Wavelength):C(Position)  0.000512   9.0  1.339555  0.298462\n",
            "Residual                   0.000510  12.0       NaN       NaN\n"
          ]
        },
        {
          "output_type": "stream",
          "name": "stderr",
          "text": [
            "/usr/local/lib/python3.10/dist-packages/statsmodels/base/model.py:1871: ValueWarning: covariance of constraints does not have full rank. The number of constraints is 3, but rank is 0\n",
            "  warnings.warn('covariance of constraints does not have full '\n",
            "/usr/local/lib/python3.10/dist-packages/statsmodels/base/model.py:1900: RuntimeWarning: invalid value encountered in true_divide\n",
            "  F /= J\n",
            "/usr/local/lib/python3.10/dist-packages/statsmodels/base/model.py:1871: ValueWarning: covariance of constraints does not have full rank. The number of constraints is 3, but rank is 0\n",
            "  warnings.warn('covariance of constraints does not have full '\n",
            "/usr/local/lib/python3.10/dist-packages/statsmodels/base/model.py:1871: ValueWarning: covariance of constraints does not have full rank. The number of constraints is 9, but rank is 2\n",
            "  warnings.warn('covariance of constraints does not have full '\n"
          ]
        }
      ]
    },
    {
      "cell_type": "code",
      "source": [
        "import numpy as np\n",
        "import pandas as pd\n",
        "import statsmodels.api as sm\n",
        "from statsmodels.formula.api import ols\n",
        "\n",
        "N=int(4)\n",
        "def newRound(value, N):\n",
        "    exponent = np.ceil(np.log10(value))\n",
        "    return 10**exponent*np.round(value*10**(-exponent), N)\n",
        "print(np.repeat(['none', 'nylon','twine'], 9))\n",
        "df = pd.DataFrame({'rifling': np.repeat(['none', 'nylon','twine'], 9),\n",
        "                   'projectile': ['dart', 'dart', 'dart', 'tau', 'tau', 'tau', 'phi', 'phi', 'phi','dart', 'dart', 'dart', 'tau', 'tau', 'tau', 'phi', 'phi', 'phi','dart', 'dart', 'dart', 'tau', 'tau', 'tau', 'phi', 'phi', 'phi',],\n",
        "                   'velocity': [43.5, 39.7, 41.1, 33.6, 29.8, 32.3, 21.1, 27.2, 28.4, 19.8, 23.6, 20.4, 5.5, 6.1, 7.7, 6.3, 7.2, 7.3, 20.8, 22.2, 24.6, 8.6, 7.7, 7.5, 5.2, 8.1, 7.6]})\n",
        "print(df)\n",
        "\n",
        "model = ols('velocity ~ C(rifling) + C(projectile) + C(rifling):C(projectile)', data=df).fit()\n",
        "aa=sm.stats.anova_lm(model, typ=2)\n",
        "print(aa)\n"
      ],
      "metadata": {
        "colab": {
          "base_uri": "https://localhost:8080/"
        },
        "id": "GWXuO0xXW1Wa",
        "outputId": "9130e36e-d0d1-4516-edad-7644b486ffd8"
      },
      "execution_count": null,
      "outputs": [
        {
          "output_type": "stream",
          "name": "stdout",
          "text": [
            "['none' 'none' 'none' 'none' 'none' 'none' 'none' 'none' 'none' 'nylon'\n",
            " 'nylon' 'nylon' 'nylon' 'nylon' 'nylon' 'nylon' 'nylon' 'nylon' 'twine'\n",
            " 'twine' 'twine' 'twine' 'twine' 'twine' 'twine' 'twine' 'twine']\n",
            "   rifling projectile  velocity\n",
            "0     none       dart      43.5\n",
            "1     none       dart      39.7\n",
            "2     none       dart      41.1\n",
            "3     none        tau      33.6\n",
            "4     none        tau      29.8\n",
            "5     none        tau      32.3\n",
            "6     none        phi      21.1\n",
            "7     none        phi      27.2\n",
            "8     none        phi      28.4\n",
            "9    nylon       dart      19.8\n",
            "10   nylon       dart      23.6\n",
            "11   nylon       dart      20.4\n",
            "12   nylon        tau       5.5\n",
            "13   nylon        tau       6.1\n",
            "14   nylon        tau       7.7\n",
            "15   nylon        phi       6.3\n",
            "16   nylon        phi       7.2\n",
            "17   nylon        phi       7.3\n",
            "18   twine       dart      20.8\n",
            "19   twine       dart      22.2\n",
            "20   twine       dart      24.6\n",
            "21   twine        tau       8.6\n",
            "22   twine        tau       7.7\n",
            "23   twine        tau       7.5\n",
            "24   twine        phi       5.2\n",
            "25   twine        phi       8.1\n",
            "26   twine        phi       7.6\n",
            "                               sum_sq    df           F        PR(>F)\n",
            "C(rifling)                2638.731852   2.0  339.686088  5.084766e-15\n",
            "C(projectile)             1219.742963   2.0  157.018499  4.043656e-12\n",
            "C(rifling):C(projectile)    45.141481   4.0    2.905550  5.118035e-02\n",
            "Residual                    69.913333  18.0         NaN           NaN\n"
          ]
        }
      ]
    }
  ]
}